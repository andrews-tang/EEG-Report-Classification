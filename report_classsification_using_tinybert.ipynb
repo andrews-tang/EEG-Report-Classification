{
 "cells": [
  {
   "cell_type": "code",
   "execution_count": 1,
   "id": "599569ff-0356-4095-8a05-f51c2f5dfd02",
   "metadata": {},
   "outputs": [],
   "source": [
    "import os\n",
    "import torch\n",
    "from torch.utils.data import Dataset, DataLoader, random_split\n",
    "from torchvision.transforms import transforms\n",
    "import glob\n",
    "import tarfile\n",
    "from tqdm import tqdm\n",
    "import numpy as np\n",
    "import matplotlib.pyplot as plt\n",
    "import seaborn as sns\n",
    "from transformers import BertTokenizer\n",
    "from transformers import get_scheduler\n",
    "from transformers import BertForSequenceClassification\n",
    "from sklearn.metrics import accuracy_score, classification_report, confusion_matrix\n",
    "from torch.optim import AdamW"
   ]
  },
  {
   "cell_type": "code",
   "execution_count": 2,
   "id": "af439a0a-d205-455b-ad92-1d4ae7382d56",
   "metadata": {},
   "outputs": [
    {
     "name": "stdout",
     "output_type": "stream",
     "text": [
      "Downloading...\n",
      "From: https://drive.google.com/uc?id=1jxJNYCc3K_ad-_iT65MZob8nRWKCItV5\n",
      "To: /home/jovyan/work/Projects/EEG_Report_Classification/TUAB_txt_relabelled.tar\n",
      "100%|██████████████████████████████████████| 12.3M/12.3M [00:01<00:00, 10.4MB/s]\n"
     ]
    }
   ],
   "source": [
    "!gdown 1jxJNYCc3K_ad-_iT65MZob8nRWKCItV5"
   ]
  },
  {
   "cell_type": "code",
   "execution_count": null,
   "id": "57984ef4-04d2-4a22-b553-de8b72d4c86f",
   "metadata": {},
   "outputs": [],
   "source": []
  },
  {
   "cell_type": "code",
   "execution_count": 3,
   "id": "2a3ca15f-14f3-4f09-9bea-e0bb96a3c4ae",
   "metadata": {},
   "outputs": [],
   "source": [
    "tar = tarfile.open(\"./TUAB_txt_relabelled.tar\")\n",
    "tar.extractall()\n",
    "tar.close()"
   ]
  },
  {
   "cell_type": "code",
   "execution_count": 48,
   "id": "92004b97-7a7e-4856-a148-260753153eb8",
   "metadata": {},
   "outputs": [],
   "source": [
    "main_dataset_dir = '/home/jovyan/work/Projects/EEG_Report_Classification/TUAB_txt_relabelled/v2.0.0/edf/'\n",
    "train_dataset_dir = main_dataset_dir + 'train/'\n",
    "test_dataset_dir = main_dataset_dir + 'eval/'\n",
    "saved_models_dir = \"/home/jovyan/work/Projects/EEG_Report_Classification/SavedModels/TinyBERT/\""
   ]
  },
  {
   "cell_type": "code",
   "execution_count": 38,
   "id": "9d8a7c1e-cc98-4ebb-96a2-2a430e55cbec",
   "metadata": {},
   "outputs": [],
   "source": [
    "# uses the tinybert tokenizer\n",
    "tokenizer = BertTokenizer.from_pretrained('huawei-noah/TinyBERT_General_4L_312D')\n",
    "\n",
    "def read_text_file(file_path):\n",
    "    encodings = ['utf-8', 'iso-8859-1', 'windows-1252', 'ascii']\n",
    "    for encoding in encodings:\n",
    "        try:\n",
    "            with open(file_path, 'r', encoding=encoding) as file:\n",
    "                return file.read()\n",
    "        except UnicodeDecodeError:\n",
    "            continue\n",
    "    return None\n",
    "\n",
    "\n",
    "def preprocess_text(text):\n",
    "    # Encode the texts using the TinyBERT tokenizer\n",
    "    encoded_text = tokenizer.encode_plus(\n",
    "        text,\n",
    "        add_special_tokens=True,  # Add '[CLS]' and '[SEP]'\n",
    "        max_length=512,  # Set maximum length to 512 tokens\n",
    "        truncation=True,  # Truncate longer sequences\n",
    "        padding='max_length',  # Pad shorter sequences\n",
    "        return_attention_mask=True,\n",
    "        return_tensors='pt'  # Return PyTorch tensors\n",
    "    )\n",
    "    return encoded_text['input_ids'], encoded_text['attention_mask']\n",
    "\n",
    "\n",
    "class TextReportsDataset(Dataset):\n",
    "    def __init__(self, root_dir, transform=None):\n",
    "        self.root_dir = root_dir\n",
    "        self.transform = transform\n",
    "        self.file_paths = glob.glob(os.path.join(root_dir, '**/*.txt'), recursive=True)\n",
    "        self.data = []\n",
    "        self.labels = []\n",
    "        \n",
    "        for file_path in self.file_paths:\n",
    "            if 'abnormal' in file_path:\n",
    "                self.labels.append(1)\n",
    "            elif 'normal' in file_path:\n",
    "                self.labels.append(0)\n",
    "            else:\n",
    "                continue  # or raise an error\n",
    "            text = read_text_file(file_path)\n",
    "            if self.transform:\n",
    "                text = self.transform(text)\n",
    "            self.data.append(text)\n",
    "\n",
    "    def __len__(self):\n",
    "        return len(self.data)\n",
    "\n",
    "    def __getitem__(self, idx):\n",
    "        input_ids, attention_mask = self.data[idx]\n",
    "        label = self.labels[idx]\n",
    "        input_ids = input_ids.squeeze()\n",
    "        attention_mask = attention_mask.squeeze()\n",
    "        return {'input_ids': input_ids, 'attention_mask': attention_mask, 'labels': label}\n"
   ]
  },
  {
   "cell_type": "code",
   "execution_count": 26,
   "id": "ae752dc9-30f0-4bcd-ae26-b3dcfc783b35",
   "metadata": {},
   "outputs": [],
   "source": [
    "train_dataset = TextReportsDataset(root_dir=train_dataset_dir, transform=preprocess_text)\n",
    "test_dataset = TextReportsDataset(root_dir=test_dataset_dir, transform=preprocess_text)\n",
    "\n",
    "# Splitting train dataset into train and validation sets (80/20 split)\n",
    "num_train = int(len(train_dataset) * 0.8)\n",
    "num_val = len(train_dataset) - num_train\n",
    "train_subset, val_subset = random_split(train_dataset, [num_train, num_val])\n"
   ]
  },
  {
   "cell_type": "code",
   "execution_count": 35,
   "id": "81526d15-86ec-4c86-a942-933a4a316955",
   "metadata": {},
   "outputs": [
    {
     "data": {
      "application/vnd.jupyter.widget-view+json": {
       "model_id": "c2cbeff44bc0466fbb64ff915648c7ff",
       "version_major": 2,
       "version_minor": 0
      },
      "text/plain": [
       "pytorch_model.bin:   0%|          | 0.00/62.7M [00:00<?, ?B/s]"
      ]
     },
     "metadata": {},
     "output_type": "display_data"
    },
    {
     "name": "stderr",
     "output_type": "stream",
     "text": [
      "Some weights of BertForSequenceClassification were not initialized from the model checkpoint at huawei-noah/TinyBERT_General_4L_312D and are newly initialized: ['classifier.bias', 'classifier.weight']\n",
      "You should probably TRAIN this model on a down-stream task to be able to use it for predictions and inference.\n"
     ]
    }
   ],
   "source": [
    "# Create DataLoaders for train, validation, and test\n",
    "train_dataloader = DataLoader(train_subset, batch_size=8, shuffle=True)\n",
    "val_dataloader = DataLoader(val_subset, batch_size=8, shuffle=False)\n",
    "test_dataloader = DataLoader(test_dataset, batch_size=8, shuffle=False)\n",
    "\n",
    "model = BertForSequenceClassification.from_pretrained('huawei-noah/TinyBERT_General_4L_312D', num_labels=2)\n",
    "\n",
    "# Choose device available\n",
    "device = torch.device(\"cuda\" if torch.cuda.is_available() else \"cpu\")\n",
    "\n",
    "optimizer = AdamW(model.parameters(), lr=5e-5)"
   ]
  },
  {
   "cell_type": "code",
   "execution_count": null,
   "id": "fe5834c0-e67f-4b56-b26e-a3c4e269f5d1",
   "metadata": {},
   "outputs": [],
   "source": []
  },
  {
   "cell_type": "code",
   "execution_count": 45,
   "id": "dd92dd68-7115-4a44-b3ad-405c62109f43",
   "metadata": {},
   "outputs": [],
   "source": [
    "\n",
    "def train_and_validate(model, train_dataloader, val_dataloader, optimizer, device, epochs=3, saved_models_path=saved_models):\n",
    "    \"\"\"Train and validate the model.\n",
    "    \n",
    "    Args:\n",
    "        model (torch.nn.Module): The model to train and validate.\n",
    "        train_dataloader (DataLoader): DataLoader for training data.\n",
    "        val_dataloader (DataLoader): DataLoader for validation data.\n",
    "        optimizer (torch.optim.Optimizer): Optimizer for the model.\n",
    "        device (torch.device): Device to run the model computation.\n",
    "        epochs (int): Number of epochs to train the model.\n",
    "        saved_models_path (str): Directory path where the model will be saved.\n",
    "    \"\"\"\n",
    "    model = model.to(device)\n",
    "    best_val_accuracy = 0\n",
    "\n",
    "    # Get the model name from its class\n",
    "    model_name = model.__class__.__name__\n",
    "\n",
    "    total_steps = len(train_dataloader) * epochs\n",
    "    scheduler = get_scheduler(\n",
    "        \"linear\",\n",
    "        optimizer=optimizer,\n",
    "        num_warmup_steps=0,\n",
    "        num_training_steps=total_steps\n",
    "    )\n",
    "\n",
    "    for epoch in range(epochs):\n",
    "        # Training Phase\n",
    "        model.train()\n",
    "        total_loss = 0\n",
    "        for batch in tqdm(train_dataloader, desc=f\"Epoch {epoch + 1}/{epochs} - Training\"):\n",
    "            batch = {k: v.to(device) for k, v in batch.items()}\n",
    "            outputs = model(**batch)\n",
    "            loss = outputs.loss\n",
    "\n",
    "            optimizer.zero_grad()\n",
    "            loss.backward()\n",
    "            optimizer.step()\n",
    "            scheduler.step()\n",
    "\n",
    "            total_loss += loss.item()\n",
    "\n",
    "        avg_train_loss = total_loss / len(train_dataloader)\n",
    "        print(f\"Average training loss: {avg_train_loss:.4f}\")\n",
    "\n",
    "        # Validation Phase\n",
    "        model.eval()\n",
    "        total_val_loss = 0\n",
    "        total_correct = 0\n",
    "        total_examples = 0\n",
    "\n",
    "        with torch.no_grad():\n",
    "            for batch in tqdm(val_dataloader, desc=f\"Epoch {epoch + 1}/{epochs} - Validation\"):\n",
    "                batch = {k: v.to(device) for k, v in batch.items()}\n",
    "                outputs = model(**batch)\n",
    "                loss = outputs.loss\n",
    "                total_val_loss += loss.item()\n",
    "\n",
    "                logits = outputs.logits\n",
    "                predictions = torch.argmax(logits, dim=1)\n",
    "                total_correct += (predictions == batch['labels']).sum().item()\n",
    "                total_examples += batch['labels'].size(0)\n",
    "\n",
    "        avg_val_loss = total_val_loss / len(val_dataloader)\n",
    "        val_accuracy = total_correct / total_examples\n",
    "        print(f\"Average validation loss: {avg_val_loss:.4f}\")\n",
    "        print(f\"Validation accuracy: {val_accuracy:.4f}\")\n",
    "\n",
    "        # Save the best model\n",
    "        if val_accuracy > best_val_accuracy:\n",
    "            best_val_accuracy = val_accuracy\n",
    "            # Construct the filename for saving the model\n",
    "            save_path = os.path.join(saved_models_path, f\"{model_name}_best_model.pth\")\n",
    "            torch.save(model.state_dict(), save_path)\n",
    "            print(f\"Saved improved model at {save_path}\")"
   ]
  },
  {
   "cell_type": "code",
   "execution_count": null,
   "id": "ecb665b7-a5e4-47d4-a47f-c4d9a75808e2",
   "metadata": {},
   "outputs": [],
   "source": [
    "def clip_gradients(model, max_norm):\n",
    "    \"\"\"Clips the gradients computed during backpropagation to have a maximum norm of `max_norm`.\"\"\"\n",
    "    torch.nn.utils.clip_grad_norm_(model.parameters(), max_norm)\n",
    "\n",
    "def add_noise(model, noise_level):\n",
    "    \"\"\"Adds Gaussian noise to the gradients to ensure differential privacy.\"\"\"\n",
    "    for param in model.parameters():\n",
    "        if param.grad is not None:\n",
    "            noise = torch.randn_like(param.grad) * noise_level\n",
    "            param.grad += noise\n",
    "\n",
    "def train_and_validate_with_privacy(model, train_dataloader, val_dataloader, optimizer, device, epochs=3, max_grad_norm=1.0, noise_level=0.1, saved_models_path=saved_models_dir):\n",
    "    model = model.to(device)\n",
    "    best_val_accuracy = 0\n",
    "\n",
    "    for epoch in range(epochs):\n",
    "        model.train()\n",
    "        total_loss = 0\n",
    "        # Add tqdm for visual progress on training\n",
    "        train_progress = tqdm(train_dataloader, desc=f\"Epoch {epoch + 1}/{epochs} - Training\")\n",
    "        for batch in train_progress:\n",
    "            batch = {k: v.to(device) for k, v in batch.items()}\n",
    "            outputs = model(**batch)\n",
    "            loss = outputs.loss\n",
    "\n",
    "            optimizer.zero_grad()\n",
    "            loss.backward()\n",
    "            \n",
    "            # Clip gradients to prevent large updates that could reveal data specifics\n",
    "            clip_gradients(model, max_grad_norm)\n",
    "            \n",
    "            # Add Gaussian noise to gradients for differential privacy\n",
    "            add_noise(model, noise_level)\n",
    "            \n",
    "            optimizer.step()\n",
    "\n",
    "            total_loss += loss.item()\n",
    "            # Update progress bar with the current loss\n",
    "            train_progress.set_postfix({'loss': f'{loss.item():.4f}'})\n",
    "\n",
    "        avg_train_loss = total_loss / len(train_dataloader)\n",
    "        print(f\"Average training loss: {avg_train_loss:.4f}\")\n",
    "\n",
    "        # Validation Phase\n",
    "        model.eval()\n",
    "        total_val_loss = 0\n",
    "        total_correct = 0\n",
    "        total_examples = 0\n",
    "        # Add tqdm for visual progress on validation\n",
    "        val_progress = tqdm(val_dataloader, desc=f\"Epoch {epoch + 1}/{epochs} - Validation\")\n",
    "        with torch.no_grad():\n",
    "            for batch in val_progress:\n",
    "                batch = {k: v.to(device) for k, v in batch.items()}\n",
    "                outputs = model(**batch)\n",
    "                loss = outputs.loss\n",
    "                total_val_loss += loss.item()\n",
    "\n",
    "                logits = outputs.logits\n",
    "                predictions = torch.argmax(logits, dim=1)\n",
    "                total_correct += (predictions == batch['labels']).sum().item()\n",
    "                total_examples += batch['labels'].size(0)\n",
    "                # Update progress bar with validation accuracy\n",
    "                val_progress.set_postfix({'val_acc': f'{(total_correct/total_examples):.4f}'})\n",
    "\n",
    "        avg_val_loss = total_val_loss / len(val_dataloader)\n",
    "        val_accuracy = total_correct / total_examples\n",
    "        print(f\"Average validation loss: {avg_val_loss:.4f}\")\n",
    "        print(f\"Validation accuracy: {val_accuracy:.4f}\")\n",
    "\n",
    "        # Save the best model\n",
    "        if val_accuracy > best_val_accuracy:\n",
    "            best_val_accuracy = val_accuracy\n",
    "            save_path = os.path.join(saved_models_path, f\"{model.__class__.__name__}_best_model.pth\")\n",
    "            torch.save(model.state_dict(), save_path)\n",
    "            print(f\"Saved improved model at {save_path}\")"
   ]
  },
  {
   "cell_type": "code",
   "execution_count": 46,
   "id": "6a618498-2e05-4e07-9a6b-1b2f30a76de3",
   "metadata": {},
   "outputs": [
    {
     "name": "stderr",
     "output_type": "stream",
     "text": [
      "Epoch 1/5 - Training: 100%|██████████| 272/272 [00:16<00:00, 16.58it/s]\n"
     ]
    },
    {
     "name": "stdout",
     "output_type": "stream",
     "text": [
      "Average training loss: 0.0634\n"
     ]
    },
    {
     "name": "stderr",
     "output_type": "stream",
     "text": [
      "Epoch 1/5 - Validation: 100%|██████████| 68/68 [00:01<00:00, 49.77it/s]\n"
     ]
    },
    {
     "name": "stdout",
     "output_type": "stream",
     "text": [
      "Average validation loss: 0.0157\n",
      "Validation accuracy: 0.9963\n",
      "Saved improved model at /home/jovyan/work/Projects/EEG_Report_Classification/BertForSequenceClassification_best_model.pth\n"
     ]
    },
    {
     "name": "stderr",
     "output_type": "stream",
     "text": [
      "Epoch 2/5 - Training: 100%|██████████| 272/272 [00:16<00:00, 16.54it/s]\n"
     ]
    },
    {
     "name": "stdout",
     "output_type": "stream",
     "text": [
      "Average training loss: 0.0279\n"
     ]
    },
    {
     "name": "stderr",
     "output_type": "stream",
     "text": [
      "Epoch 2/5 - Validation: 100%|██████████| 68/68 [00:01<00:00, 49.72it/s]\n"
     ]
    },
    {
     "name": "stdout",
     "output_type": "stream",
     "text": [
      "Average validation loss: 0.0184\n",
      "Validation accuracy: 0.9945\n"
     ]
    },
    {
     "name": "stderr",
     "output_type": "stream",
     "text": [
      "Epoch 3/5 - Training: 100%|██████████| 272/272 [00:16<00:00, 16.34it/s]\n"
     ]
    },
    {
     "name": "stdout",
     "output_type": "stream",
     "text": [
      "Average training loss: 0.0300\n"
     ]
    },
    {
     "name": "stderr",
     "output_type": "stream",
     "text": [
      "Epoch 3/5 - Validation: 100%|██████████| 68/68 [00:01<00:00, 48.63it/s]\n"
     ]
    },
    {
     "name": "stdout",
     "output_type": "stream",
     "text": [
      "Average validation loss: 0.0173\n",
      "Validation accuracy: 0.9945\n"
     ]
    },
    {
     "name": "stderr",
     "output_type": "stream",
     "text": [
      "Epoch 4/5 - Training: 100%|██████████| 272/272 [00:16<00:00, 16.27it/s]\n"
     ]
    },
    {
     "name": "stdout",
     "output_type": "stream",
     "text": [
      "Average training loss: 0.0138\n"
     ]
    },
    {
     "name": "stderr",
     "output_type": "stream",
     "text": [
      "Epoch 4/5 - Validation: 100%|██████████| 68/68 [00:01<00:00, 48.74it/s]\n"
     ]
    },
    {
     "name": "stdout",
     "output_type": "stream",
     "text": [
      "Average validation loss: 0.0109\n",
      "Validation accuracy: 0.9963\n"
     ]
    },
    {
     "name": "stderr",
     "output_type": "stream",
     "text": [
      "Epoch 5/5 - Training: 100%|██████████| 272/272 [00:16<00:00, 16.30it/s]\n"
     ]
    },
    {
     "name": "stdout",
     "output_type": "stream",
     "text": [
      "Average training loss: 0.0120\n"
     ]
    },
    {
     "name": "stderr",
     "output_type": "stream",
     "text": [
      "Epoch 5/5 - Validation: 100%|██████████| 68/68 [00:01<00:00, 48.78it/s]\n"
     ]
    },
    {
     "name": "stdout",
     "output_type": "stream",
     "text": [
      "Average validation loss: 0.0058\n",
      "Validation accuracy: 0.9982\n",
      "Saved improved model at /home/jovyan/work/Projects/EEG_Report_Classification/BertForSequenceClassification_best_model.pth\n"
     ]
    }
   ],
   "source": [
    "train_and_validate(\n",
    "    model=model,\n",
    "    train_dataloader=train_dataloader,\n",
    "    val_dataloader=val_dataloader,\n",
    "    optimizer=optimizer,\n",
    "    device=device,\n",
    "    epochs=5\n",
    ")"
   ]
  },
  {
   "cell_type": "code",
   "execution_count": null,
   "id": "6f5355d8-1ea2-4214-af8a-b077d0957eba",
   "metadata": {},
   "outputs": [],
   "source": [
    "train_and_validate_with_privacy(\n",
    "    model=model,\n",
    "    train_dataloader=train_dataloader,\n",
    "    val_dataloader=val_dataloader,\n",
    "    optimizer=optimizer,\n",
    "    device=device,\n",
    "    epochs=20\n",
    ")"
   ]
  },
  {
   "cell_type": "code",
   "execution_count": 47,
   "id": "ad712d6e-befd-439f-b4fc-4d1ba34fac0c",
   "metadata": {},
   "outputs": [],
   "source": [
    "def evaluate_model_and_plot(model, dataloader, device):\n",
    "    \"\"\"Evaluate the model and plot metrics and confusion matrix.\"\"\"\n",
    "    model.eval()\n",
    "    predictions, true_labels = [], []\n",
    "\n",
    "    with torch.no_grad():\n",
    "        for batch in dataloader:\n",
    "            batch = {k: v.to(device) for k, v in batch.items()}\n",
    "            outputs = model(**batch)\n",
    "            logits = outputs.logits\n",
    "            predicted_labels = torch.argmax(logits, dim=1)\n",
    "            predictions.extend(predicted_labels.cpu().numpy())\n",
    "            true_labels.extend(batch['labels'].cpu().numpy())\n",
    "\n",
    "    accuracy = accuracy_score(true_labels, predictions)\n",
    "    class_report = classification_report(true_labels, predictions, target_names=['Normal', 'Abnormal'], output_dict=True)\n",
    "    conf_matrix = confusion_matrix(true_labels, predictions)\n",
    "\n",
    "    print(\"Accuracy:\", accuracy)\n",
    "    print(\"Classification Report:\")\n",
    "    print(classification_report(true_labels, predictions, target_names=['Normal', 'Abnormal']))\n",
    "\n",
    "    # Plotting the confusion matrix\n",
    "    plt.figure(figsize=(8, 6))\n",
    "    sns.heatmap(conf_matrix, annot=True, fmt='d', cmap='Blues', xticklabels=['Normal', 'Abnormal'], yticklabels=['Normal', 'Abnormal'])\n",
    "    plt.xlabel('Predicted Labels')\n",
    "    plt.ylabel('True Labels')\n",
    "    plt.title('Confusion Matrix')\n",
    "    plt.show()\n",
    "\n",
    "    return {\"accuracy\": accuracy, \"report\": class_report, \"confusion_matrix\": conf_matrix}"
   ]
  },
  {
   "cell_type": "code",
   "execution_count": 49,
   "id": "285ca5da-c706-4ece-8259-a9bf142046e1",
   "metadata": {},
   "outputs": [
    {
     "name": "stderr",
     "output_type": "stream",
     "text": [
      "Some weights of BertForSequenceClassification were not initialized from the model checkpoint at huawei-noah/TinyBERT_General_4L_312D and are newly initialized: ['classifier.bias', 'classifier.weight']\n",
      "You should probably TRAIN this model on a down-stream task to be able to use it for predictions and inference.\n"
     ]
    },
    {
     "data": {
      "text/plain": [
       "BertForSequenceClassification(\n",
       "  (bert): BertModel(\n",
       "    (embeddings): BertEmbeddings(\n",
       "      (word_embeddings): Embedding(30522, 312, padding_idx=0)\n",
       "      (position_embeddings): Embedding(512, 312)\n",
       "      (token_type_embeddings): Embedding(2, 312)\n",
       "      (LayerNorm): LayerNorm((312,), eps=1e-12, elementwise_affine=True)\n",
       "      (dropout): Dropout(p=0.1, inplace=False)\n",
       "    )\n",
       "    (encoder): BertEncoder(\n",
       "      (layer): ModuleList(\n",
       "        (0-3): 4 x BertLayer(\n",
       "          (attention): BertAttention(\n",
       "            (self): BertSelfAttention(\n",
       "              (query): Linear(in_features=312, out_features=312, bias=True)\n",
       "              (key): Linear(in_features=312, out_features=312, bias=True)\n",
       "              (value): Linear(in_features=312, out_features=312, bias=True)\n",
       "              (dropout): Dropout(p=0.1, inplace=False)\n",
       "            )\n",
       "            (output): BertSelfOutput(\n",
       "              (dense): Linear(in_features=312, out_features=312, bias=True)\n",
       "              (LayerNorm): LayerNorm((312,), eps=1e-12, elementwise_affine=True)\n",
       "              (dropout): Dropout(p=0.1, inplace=False)\n",
       "            )\n",
       "          )\n",
       "          (intermediate): BertIntermediate(\n",
       "            (dense): Linear(in_features=312, out_features=1200, bias=True)\n",
       "            (intermediate_act_fn): GELUActivation()\n",
       "          )\n",
       "          (output): BertOutput(\n",
       "            (dense): Linear(in_features=1200, out_features=312, bias=True)\n",
       "            (LayerNorm): LayerNorm((312,), eps=1e-12, elementwise_affine=True)\n",
       "            (dropout): Dropout(p=0.1, inplace=False)\n",
       "          )\n",
       "        )\n",
       "      )\n",
       "    )\n",
       "    (pooler): BertPooler(\n",
       "      (dense): Linear(in_features=312, out_features=312, bias=True)\n",
       "      (activation): Tanh()\n",
       "    )\n",
       "  )\n",
       "  (dropout): Dropout(p=0.1, inplace=False)\n",
       "  (classifier): Linear(in_features=312, out_features=2, bias=True)\n",
       ")"
      ]
     },
     "execution_count": 49,
     "metadata": {},
     "output_type": "execute_result"
    }
   ],
   "source": [
    "# Step 1: Recreate the model architecture\n",
    "model = BertForSequenceClassification.from_pretrained(\n",
    "    \"huawei-noah/TinyBERT_General_4L_312D\",\n",
    "    num_labels=2,  # Ensure this matches the setup during training\n",
    "    output_attentions=False,\n",
    "    output_hidden_states=False,\n",
    ")\n",
    "\n",
    "# Step 2: Load the saved model weights\n",
    "model_path = saved_models_dir+'BertForSequenceClassification_best_model.pth'\n",
    "model.load_state_dict(torch.load(model_path))\n",
    "\n",
    "# Step 3: Prepare the model for evaluation\n",
    "device = torch.device(\"cuda\" if torch.cuda.is_available() else \"cpu\")\n",
    "model.to(device)\n",
    "model.eval()"
   ]
  },
  {
   "cell_type": "code",
   "execution_count": 50,
   "id": "1f4129c4-cf98-47dd-9378-604d58398823",
   "metadata": {},
   "outputs": [
    {
     "name": "stdout",
     "output_type": "stream",
     "text": [
      "Accuracy: 0.9818840579710145\n",
      "Classification Report:\n",
      "              precision    recall  f1-score   support\n",
      "\n",
      "      Normal       0.99      0.97      0.98       150\n",
      "    Abnormal       0.97      0.99      0.98       126\n",
      "\n",
      "    accuracy                           0.98       276\n",
      "   macro avg       0.98      0.98      0.98       276\n",
      "weighted avg       0.98      0.98      0.98       276\n",
      "\n"
     ]
    },
    {
     "data": {
      "image/png": "[encoded data removed]",
      "text/plain": [
       "<Figure size 800x600 with 2 Axes>"
      ]
     },
     "metadata": {},
     "output_type": "display_data"
    }
   ],
   "source": [
    "# model evaluation finally done here\n",
    "results = evaluate_model_and_plot(model, test_dataloader, device)"
   ]
  },
  {
   "cell_type": "code",
   "execution_count": null,
   "id": "89b78a40-3ff5-4b2e-9d23-032ea32779d2",
   "metadata": {},
   "outputs": [],
   "source": []
  }
 ],
 "metadata": {
  "kernelspec": {
   "display_name": "Python 3 (ipykernel)",
   "language": "python",
   "name": "python3"
  },
  "language_info": {
   "codemirror_mode": {
    "name": "ipython",
    "version": 3
   },
   "file_extension": ".py",
   "mimetype": "text/x-python",
   "name": "python",
   "nbconvert_exporter": "python",
   "pygments_lexer": "ipython3",
   "version": "3.11.8"
  }
 },
 "nbformat": 4,
 "nbformat_minor": 5
}
