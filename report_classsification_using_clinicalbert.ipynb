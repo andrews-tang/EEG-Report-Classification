{
 "cells": [
  {
   "cell_type": "code",
   "execution_count": 1,
   "id": "599569ff-0356-4095-8a05-f51c2f5dfd02",
   "metadata": {},
   "outputs": [],
   "source": [
    "import os\n",
    "import torch\n",
    "from torch.utils.data import Dataset, DataLoader, random_split\n",
    "from torchvision.transforms import transforms\n",
    "import glob\n",
    "import tarfile\n",
    "from tqdm import tqdm\n",
    "import numpy as np\n",
    "import matplotlib.pyplot as plt\n",
    "import seaborn as sns\n",
    "from transformers import BertTokenizer\n",
    "from transformers import get_scheduler\n",
    "from transformers import BertForSequenceClassification\n",
    "from sklearn.metrics import accuracy_score, classification_report, confusion_matrix\n",
    "from torch.optim import AdamW\n",
    "from opacus import PrivacyEngine"
   ]
  },
  {
   "cell_type": "code",
   "execution_count": 2,
   "id": "af439a0a-d205-455b-ad92-1d4ae7382d56",
   "metadata": {},
   "outputs": [
    {
     "name": "stdout",
     "output_type": "stream",
     "text": [
      "Downloading...\n",
      "From: https://drive.google.com/uc?id=1jxJNYCc3K_ad-_iT65MZob8nRWKCItV5\n",
      "To: /home/jovyan/work/Projects/EEG_Report_Classification/TUAB_txt_relabelled.tar\n",
      "100%|███████████████████████████████████████| 12.3M/12.3M [01:05<00:00, 188kB/s]\n"
     ]
    }
   ],
   "source": [
    "!gdown 1jxJNYCc3K_ad-_iT65MZob8nRWKCItV5"
   ]
  },
  {
   "cell_type": "code",
   "execution_count": null,
   "id": "57984ef4-04d2-4a22-b553-de8b72d4c86f",
   "metadata": {},
   "outputs": [],
   "source": []
  },
  {
   "cell_type": "code",
   "execution_count": 3,
   "id": "2a3ca15f-14f3-4f09-9bea-e0bb96a3c4ae",
   "metadata": {},
   "outputs": [],
   "source": [
    "tar = tarfile.open(\"./TUAB_txt_relabelled.tar\")\n",
    "tar.extractall()\n",
    "tar.close()"
   ]
  },
  {
   "cell_type": "code",
   "execution_count": 4,
   "id": "92004b97-7a7e-4856-a148-260753153eb8",
   "metadata": {},
   "outputs": [],
   "source": [
    "main_dataset_dir = '/home/jovyan/work/Projects/EEG_Report_Classification/TUAB_txt_relabelled/v2.0.0/edf/'\n",
    "train_dataset_dir = main_dataset_dir + 'train/'\n",
    "test_dataset_dir = main_dataset_dir + 'eval/'\n",
    "saved_models_dir = \"/home/jovyan/work/Projects/EEG_Report_Classification/SavedModels/ClinicalBERT/\""
   ]
  },
  {
   "cell_type": "code",
   "execution_count": 5,
   "id": "9d8a7c1e-cc98-4ebb-96a2-2a430e55cbec",
   "metadata": {},
   "outputs": [],
   "source": [
    "tokenizer = BertTokenizer.from_pretrained(\"emilyalsentzer/Bio_ClinicalBERT\")\n",
    "\n",
    "def read_text_file(file_path):\n",
    "    # List of encodings to try\n",
    "    encodings = ['utf-8', 'iso-8859-1', 'windows-1252', 'ascii']\n",
    "    for encoding in encodings:\n",
    "        try:\n",
    "            with open(file_path, 'r', encoding=encoding) as file:\n",
    "                return file.read()\n",
    "        except UnicodeDecodeError:\n",
    "            # If an error occurs, move to the next encoding\n",
    "            continue\n",
    "    # If none of the encodings work, return None or handle the case as needed\n",
    "    return None\n",
    "\n",
    "\n",
    "class TextReportsDataset(Dataset):\n",
    "    def __init__(self, root_dir, transform=None):\n",
    "        self.root_dir = root_dir\n",
    "        self.transform = transform\n",
    "        self.file_paths = glob.glob(os.path.join(root_dir, '**/*.txt'), recursive=True)\n",
    "        self.data = []\n",
    "        self.labels = []\n",
    "        \n",
    "        for file_path in self.file_paths:\n",
    "            if 'abnormal' in file_path:\n",
    "                self.labels.append(1)\n",
    "            elif 'normal' in file_path:\n",
    "                self.labels.append(0)\n",
    "            else:\n",
    "                continue\n",
    "            text = read_text_file(file_path)\n",
    "            if self.transform:\n",
    "                text = self.transform(text)\n",
    "            self.data.append(text)\n",
    "\n",
    "    def __len__(self):\n",
    "        return len(self.data)\n",
    "\n",
    "    def __getitem__(self, idx):\n",
    "        input_ids, attention_mask = self.data[idx]\n",
    "        label = self.labels[idx]\n",
    "        # Remove extra dimensions, if any (especially if using unsqueeze in your preprocessing)\n",
    "        input_ids = input_ids.squeeze()\n",
    "        attention_mask = attention_mask.squeeze()\n",
    "        return {'input_ids': input_ids, 'attention_mask': attention_mask, 'labels': label}\n",
    "\n",
    "\n",
    "# Example transform function - this should be replaced with actual preprocessing\n",
    "def preprocess_text(text):\n",
    "    # Encode the texts using the ClinicalBERT tokenizer\n",
    "    # 'return_tensors' argument tells the function to return PyTorch tensors\n",
    "    encoded_text = tokenizer.encode_plus(\n",
    "        text,\n",
    "        add_special_tokens=True,  # Add '[CLS]' and '[SEP]'\n",
    "        max_length=512,  # Set maximum length to 512 tokens\n",
    "        truncation=True,  # Truncate longer sequences\n",
    "        padding='max_length',  # Pad shorter sequences\n",
    "        return_attention_mask=True,\n",
    "        return_tensors='pt'  # Return PyTorch tensors\n",
    "    )\n",
    "    return encoded_text['input_ids'], encoded_text['attention_mask']"
   ]
  },
  {
   "cell_type": "code",
   "execution_count": 6,
   "id": "ae752dc9-30f0-4bcd-ae26-b3dcfc783b35",
   "metadata": {},
   "outputs": [],
   "source": [
    "train_dataset = TextReportsDataset(root_dir=train_dataset_dir, transform=preprocess_text)\n",
    "test_dataset = TextReportsDataset(root_dir=test_dataset_dir, transform=preprocess_text)\n",
    "\n",
    "# Splitting train dataset into train and validation sets (80/20 split)\n",
    "num_train = int(len(train_dataset) * 0.8)\n",
    "num_val = len(train_dataset) - num_train\n",
    "train_subset, val_subset = random_split(train_dataset, [num_train, num_val])\n"
   ]
  },
  {
   "cell_type": "code",
   "execution_count": 7,
   "id": "81526d15-86ec-4c86-a942-933a4a316955",
   "metadata": {},
   "outputs": [
    {
     "name": "stderr",
     "output_type": "stream",
     "text": [
      "Some weights of BertForSequenceClassification were not initialized from the model checkpoint at emilyalsentzer/Bio_ClinicalBERT and are newly initialized: ['classifier.bias', 'classifier.weight']\n",
      "You should probably TRAIN this model on a down-stream task to be able to use it for predictions and inference.\n"
     ]
    }
   ],
   "source": [
    "# Create DataLoaders for train, validation, and test\n",
    "train_dataloader = DataLoader(train_subset, batch_size=8, shuffle=True)\n",
    "val_dataloader = DataLoader(val_subset, batch_size=8, shuffle=False)\n",
    "test_dataloader = DataLoader(test_dataset, batch_size=8, shuffle=False)\n",
    "\n",
    "model = BertForSequenceClassification.from_pretrained(\"emilyalsentzer/Bio_ClinicalBERT\", num_labels=2)\n",
    "\n",
    "# Choose device available\n",
    "device = torch.device(\"cuda\" if torch.cuda.is_available() else \"cpu\")\n",
    "\n",
    "optimizer = AdamW(model.parameters(), lr=5e-5)"
   ]
  },
  {
   "cell_type": "code",
   "execution_count": 9,
   "id": "5d034627-8e8b-48e6-9653-813a5ab643b7",
   "metadata": {},
   "outputs": [],
   "source": [
    "def clip_gradients(model, max_norm):\n",
    "    \"\"\"Clips the gradients computed during backpropagation to have a maximum norm of `max_norm`.\"\"\"\n",
    "    torch.nn.utils.clip_grad_norm_(model.parameters(), max_norm)\n",
    "\n",
    "def add_noise(model, noise_level):\n",
    "    \"\"\"Adds Gaussian noise to the gradients to ensure differential privacy.\"\"\"\n",
    "    for param in model.parameters():\n",
    "        if param.grad is not None:\n",
    "            noise = torch.randn_like(param.grad) * noise_level\n",
    "            param.grad += noise\n",
    "\n",
    "def train_and_validate(model, train_dataloader, val_dataloader, optimizer, device, epochs=3, saved_models_path=saved_models_dir, use_dp=True, max_grad_norm=1.0, noise_level=0.1):\n",
    "    \"\"\"Train and validate the model, with optional differential privacy.\n",
    "    \n",
    "    Args:\n",
    "        model (torch.nn.Module): The model to train and validate.\n",
    "        train_dataloader (DataLoader): DataLoader for training data.\n",
    "        val_dataloader (DataLoader): DataLoader for validation data.\n",
    "        optimizer (torch.optim.Optimizer): Optimizer for the model.\n",
    "        device (torch.device): Device to run the model computation.\n",
    "        epochs (int): Number of epochs to train the model.\n",
    "        saved_models_path (str): Directory path where the model will be saved.\n",
    "        use_dp (bool): Whether to use differential privacy measures.\n",
    "        max_grad_norm (float): Maximum norm for gradient clipping (used if use_dp is True).\n",
    "        noise_level (float): Standard deviation of Gaussian noise added to gradients (used if use_dp is True).\n",
    "    \"\"\"\n",
    "    model = model.to(device)\n",
    "    best_val_accuracy = 0\n",
    "\n",
    "    total_steps = len(train_dataloader) * epochs\n",
    "    scheduler = get_scheduler(\n",
    "        \"linear\",\n",
    "        optimizer=optimizer,\n",
    "        num_warmup_steps=0,\n",
    "        num_training_steps=total_steps\n",
    "    )\n",
    "\n",
    "    for epoch in range(epochs):\n",
    "        model.train()\n",
    "        total_loss = 0\n",
    "        for batch in tqdm(train_dataloader, desc=f\"Epoch {epoch + 1}/{epochs} - Training\"):\n",
    "            batch = {k: v.to(device) for k, v in batch.items()}\n",
    "            outputs = model(**batch)\n",
    "            loss = outputs.loss\n",
    "\n",
    "            optimizer.zero_grad()\n",
    "            loss.backward()\n",
    "\n",
    "            if use_dp:\n",
    "                # Clip gradients to prevent large updates\n",
    "                clip_gradients(model, max_grad_norm)\n",
    "                # Add Gaussian noise to gradients\n",
    "                add_noise(model, noise_level)\n",
    "\n",
    "            optimizer.step()\n",
    "            scheduler.step()\n",
    "\n",
    "            total_loss += loss.item()\n",
    "\n",
    "        avg_train_loss = total_loss / len(train_dataloader)\n",
    "        print(f\"Average training loss: {avg_train_loss:.4f}\")\n",
    "\n",
    "        model.eval()\n",
    "        total_val_loss = 0\n",
    "        total_correct = 0\n",
    "        total_examples = 0\n",
    "\n",
    "        with torch.no_grad():\n",
    "            for batch in tqdm(val_dataloader, desc=f\"Epoch {epoch + 1}/{epochs} - Validation\"):\n",
    "                batch = {k: v.to(device) for k, v in batch.items()}\n",
    "                outputs = model(**batch)\n",
    "                loss = outputs.loss\n",
    "                total_val_loss += loss.item()\n",
    "\n",
    "                logits = outputs.logits\n",
    "                predictions = torch.argmax(logits, dim=1)\n",
    "                total_correct += (predictions == batch['labels']).sum().item()\n",
    "                total_examples += batch['labels'].size(0)\n",
    "\n",
    "        avg_val_loss = total_val_loss / len(val_dataloader)\n",
    "        val_accuracy = total_correct / total_examples\n",
    "        print(f\"Average validation loss: {avg_val_loss:.4f}\")\n",
    "        print(f\"Validation accuracy: {val_accuracy:.4f}\")\n",
    "\n",
    "        if val_accuracy > best_val_accuracy:\n",
    "            best_val_accuracy = val_accuracy\n",
    "            save_path = os.path.join(saved_models_path, f\"{model.__class__.__name__}_best_model.pth\")\n",
    "            torch.save(model.state_dict(), save_path)\n",
    "            print(f\"Saved improved model at {save_path}\")"
   ]
  },
  {
   "cell_type": "code",
   "execution_count": 10,
   "id": "6a618498-2e05-4e07-9a6b-1b2f30a76de3",
   "metadata": {},
   "outputs": [
    {
     "name": "stderr",
     "output_type": "stream",
     "text": [
      "Epoch 1/30 - Training: 100%|██████████| 272/272 [02:18<00:00,  1.97it/s]\n"
     ]
    },
    {
     "name": "stdout",
     "output_type": "stream",
     "text": [
      "Average training loss: 0.6998\n"
     ]
    },
    {
     "name": "stderr",
     "output_type": "stream",
     "text": [
      "Epoch 1/30 - Validation: 100%|██████████| 68/68 [00:11<00:00,  5.85it/s]\n"
     ]
    },
    {
     "name": "stdout",
     "output_type": "stream",
     "text": [
      "Average validation loss: 0.6938\n",
      "Validation accuracy: 0.5074\n",
      "Saved improved model at /home/jovyan/work/Projects/EEG_Report_Classification/SavedModels/ClinicalBERT/BertForSequenceClassification_best_model.pth\n"
     ]
    },
    {
     "name": "stderr",
     "output_type": "stream",
     "text": [
      "Epoch 2/30 - Training: 100%|██████████| 272/272 [02:18<00:00,  1.96it/s]\n"
     ]
    },
    {
     "name": "stdout",
     "output_type": "stream",
     "text": [
      "Average training loss: 0.6921\n"
     ]
    },
    {
     "name": "stderr",
     "output_type": "stream",
     "text": [
      "Epoch 2/30 - Validation: 100%|██████████| 68/68 [00:11<00:00,  5.85it/s]\n"
     ]
    },
    {
     "name": "stdout",
     "output_type": "stream",
     "text": [
      "Average validation loss: 0.6877\n",
      "Validation accuracy: 0.5276\n",
      "Saved improved model at /home/jovyan/work/Projects/EEG_Report_Classification/SavedModels/ClinicalBERT/BertForSequenceClassification_best_model.pth\n"
     ]
    },
    {
     "name": "stderr",
     "output_type": "stream",
     "text": [
      "Epoch 3/30 - Training: 100%|██████████| 272/272 [02:18<00:00,  1.96it/s]\n"
     ]
    },
    {
     "name": "stdout",
     "output_type": "stream",
     "text": [
      "Average training loss: 0.6833\n"
     ]
    },
    {
     "name": "stderr",
     "output_type": "stream",
     "text": [
      "Epoch 3/30 - Validation: 100%|██████████| 68/68 [00:11<00:00,  5.83it/s]\n"
     ]
    },
    {
     "name": "stdout",
     "output_type": "stream",
     "text": [
      "Average validation loss: 0.6664\n",
      "Validation accuracy: 0.6985\n",
      "Saved improved model at /home/jovyan/work/Projects/EEG_Report_Classification/SavedModels/ClinicalBERT/BertForSequenceClassification_best_model.pth\n"
     ]
    },
    {
     "name": "stderr",
     "output_type": "stream",
     "text": [
      "Epoch 4/30 - Training: 100%|██████████| 272/272 [02:18<00:00,  1.96it/s]\n"
     ]
    },
    {
     "name": "stdout",
     "output_type": "stream",
     "text": [
      "Average training loss: 0.6463\n"
     ]
    },
    {
     "name": "stderr",
     "output_type": "stream",
     "text": [
      "Epoch 4/30 - Validation: 100%|██████████| 68/68 [00:11<00:00,  5.83it/s]\n"
     ]
    },
    {
     "name": "stdout",
     "output_type": "stream",
     "text": [
      "Average validation loss: 0.6080\n",
      "Validation accuracy: 0.7132\n",
      "Saved improved model at /home/jovyan/work/Projects/EEG_Report_Classification/SavedModels/ClinicalBERT/BertForSequenceClassification_best_model.pth\n"
     ]
    },
    {
     "name": "stderr",
     "output_type": "stream",
     "text": [
      "Epoch 5/30 - Training: 100%|██████████| 272/272 [02:18<00:00,  1.96it/s]\n"
     ]
    },
    {
     "name": "stdout",
     "output_type": "stream",
     "text": [
      "Average training loss: 0.5728\n"
     ]
    },
    {
     "name": "stderr",
     "output_type": "stream",
     "text": [
      "Epoch 5/30 - Validation: 100%|██████████| 68/68 [00:11<00:00,  5.84it/s]\n"
     ]
    },
    {
     "name": "stdout",
     "output_type": "stream",
     "text": [
      "Average validation loss: 0.5430\n",
      "Validation accuracy: 0.7390\n",
      "Saved improved model at /home/jovyan/work/Projects/EEG_Report_Classification/SavedModels/ClinicalBERT/BertForSequenceClassification_best_model.pth\n"
     ]
    },
    {
     "name": "stderr",
     "output_type": "stream",
     "text": [
      "Epoch 6/30 - Training: 100%|██████████| 272/272 [02:18<00:00,  1.96it/s]\n"
     ]
    },
    {
     "name": "stdout",
     "output_type": "stream",
     "text": [
      "Average training loss: 0.5160\n"
     ]
    },
    {
     "name": "stderr",
     "output_type": "stream",
     "text": [
      "Epoch 6/30 - Validation: 100%|██████████| 68/68 [00:11<00:00,  5.83it/s]\n"
     ]
    },
    {
     "name": "stdout",
     "output_type": "stream",
     "text": [
      "Average validation loss: 0.5114\n",
      "Validation accuracy: 0.7426\n",
      "Saved improved model at /home/jovyan/work/Projects/EEG_Report_Classification/SavedModels/ClinicalBERT/BertForSequenceClassification_best_model.pth\n"
     ]
    },
    {
     "name": "stderr",
     "output_type": "stream",
     "text": [
      "Epoch 7/30 - Training: 100%|██████████| 272/272 [02:18<00:00,  1.96it/s]\n"
     ]
    },
    {
     "name": "stdout",
     "output_type": "stream",
     "text": [
      "Average training loss: 0.4816\n"
     ]
    },
    {
     "name": "stderr",
     "output_type": "stream",
     "text": [
      "Epoch 7/30 - Validation: 100%|██████████| 68/68 [00:11<00:00,  5.85it/s]\n"
     ]
    },
    {
     "name": "stdout",
     "output_type": "stream",
     "text": [
      "Average validation loss: 0.4952\n",
      "Validation accuracy: 0.7463\n",
      "Saved improved model at /home/jovyan/work/Projects/EEG_Report_Classification/SavedModels/ClinicalBERT/BertForSequenceClassification_best_model.pth\n"
     ]
    },
    {
     "name": "stderr",
     "output_type": "stream",
     "text": [
      "Epoch 8/30 - Training: 100%|██████████| 272/272 [02:18<00:00,  1.96it/s]\n"
     ]
    },
    {
     "name": "stdout",
     "output_type": "stream",
     "text": [
      "Average training loss: 0.4549\n"
     ]
    },
    {
     "name": "stderr",
     "output_type": "stream",
     "text": [
      "Epoch 8/30 - Validation: 100%|██████████| 68/68 [00:11<00:00,  5.83it/s]\n"
     ]
    },
    {
     "name": "stdout",
     "output_type": "stream",
     "text": [
      "Average validation loss: 0.4594\n",
      "Validation accuracy: 0.7886\n",
      "Saved improved model at /home/jovyan/work/Projects/EEG_Report_Classification/SavedModels/ClinicalBERT/BertForSequenceClassification_best_model.pth\n"
     ]
    },
    {
     "name": "stderr",
     "output_type": "stream",
     "text": [
      "Epoch 9/30 - Training: 100%|██████████| 272/272 [02:19<00:00,  1.96it/s]\n"
     ]
    },
    {
     "name": "stdout",
     "output_type": "stream",
     "text": [
      "Average training loss: 0.4244\n"
     ]
    },
    {
     "name": "stderr",
     "output_type": "stream",
     "text": [
      "Epoch 9/30 - Validation: 100%|██████████| 68/68 [00:11<00:00,  5.82it/s]\n"
     ]
    },
    {
     "name": "stdout",
     "output_type": "stream",
     "text": [
      "Average validation loss: 0.4296\n",
      "Validation accuracy: 0.8033\n",
      "Saved improved model at /home/jovyan/work/Projects/EEG_Report_Classification/SavedModels/ClinicalBERT/BertForSequenceClassification_best_model.pth\n"
     ]
    },
    {
     "name": "stderr",
     "output_type": "stream",
     "text": [
      "Epoch 10/30 - Training: 100%|██████████| 272/272 [02:18<00:00,  1.96it/s]\n"
     ]
    },
    {
     "name": "stdout",
     "output_type": "stream",
     "text": [
      "Average training loss: 0.3944\n"
     ]
    },
    {
     "name": "stderr",
     "output_type": "stream",
     "text": [
      "Epoch 10/30 - Validation: 100%|██████████| 68/68 [00:11<00:00,  5.83it/s]\n"
     ]
    },
    {
     "name": "stdout",
     "output_type": "stream",
     "text": [
      "Average validation loss: 0.4113\n",
      "Validation accuracy: 0.8180\n",
      "Saved improved model at /home/jovyan/work/Projects/EEG_Report_Classification/SavedModels/ClinicalBERT/BertForSequenceClassification_best_model.pth\n"
     ]
    },
    {
     "name": "stderr",
     "output_type": "stream",
     "text": [
      "Epoch 11/30 - Training: 100%|██████████| 272/272 [02:18<00:00,  1.96it/s]\n"
     ]
    },
    {
     "name": "stdout",
     "output_type": "stream",
     "text": [
      "Average training loss: 0.3609\n"
     ]
    },
    {
     "name": "stderr",
     "output_type": "stream",
     "text": [
      "Epoch 11/30 - Validation: 100%|██████████| 68/68 [00:11<00:00,  5.83it/s]\n"
     ]
    },
    {
     "name": "stdout",
     "output_type": "stream",
     "text": [
      "Average validation loss: 0.3700\n",
      "Validation accuracy: 0.8364\n",
      "Saved improved model at /home/jovyan/work/Projects/EEG_Report_Classification/SavedModels/ClinicalBERT/BertForSequenceClassification_best_model.pth\n"
     ]
    },
    {
     "name": "stderr",
     "output_type": "stream",
     "text": [
      "Epoch 12/30 - Training: 100%|██████████| 272/272 [02:18<00:00,  1.96it/s]\n"
     ]
    },
    {
     "name": "stdout",
     "output_type": "stream",
     "text": [
      "Average training loss: 0.3307\n"
     ]
    },
    {
     "name": "stderr",
     "output_type": "stream",
     "text": [
      "Epoch 12/30 - Validation: 100%|██████████| 68/68 [00:11<00:00,  5.86it/s]\n"
     ]
    },
    {
     "name": "stdout",
     "output_type": "stream",
     "text": [
      "Average validation loss: 0.3384\n",
      "Validation accuracy: 0.8548\n",
      "Saved improved model at /home/jovyan/work/Projects/EEG_Report_Classification/SavedModels/ClinicalBERT/BertForSequenceClassification_best_model.pth\n"
     ]
    },
    {
     "name": "stderr",
     "output_type": "stream",
     "text": [
      "Epoch 13/30 - Training: 100%|██████████| 272/272 [02:18<00:00,  1.96it/s]\n"
     ]
    },
    {
     "name": "stdout",
     "output_type": "stream",
     "text": [
      "Average training loss: 0.3017\n"
     ]
    },
    {
     "name": "stderr",
     "output_type": "stream",
     "text": [
      "Epoch 13/30 - Validation: 100%|██████████| 68/68 [00:11<00:00,  5.86it/s]\n"
     ]
    },
    {
     "name": "stdout",
     "output_type": "stream",
     "text": [
      "Average validation loss: 0.3038\n",
      "Validation accuracy: 0.8732\n",
      "Saved improved model at /home/jovyan/work/Projects/EEG_Report_Classification/SavedModels/ClinicalBERT/BertForSequenceClassification_best_model.pth\n"
     ]
    },
    {
     "name": "stderr",
     "output_type": "stream",
     "text": [
      "Epoch 14/30 - Training: 100%|██████████| 272/272 [02:18<00:00,  1.96it/s]\n"
     ]
    },
    {
     "name": "stdout",
     "output_type": "stream",
     "text": [
      "Average training loss: 0.2728\n"
     ]
    },
    {
     "name": "stderr",
     "output_type": "stream",
     "text": [
      "Epoch 14/30 - Validation: 100%|██████████| 68/68 [00:11<00:00,  5.86it/s]\n"
     ]
    },
    {
     "name": "stdout",
     "output_type": "stream",
     "text": [
      "Average validation loss: 0.2680\n",
      "Validation accuracy: 0.8842\n",
      "Saved improved model at /home/jovyan/work/Projects/EEG_Report_Classification/SavedModels/ClinicalBERT/BertForSequenceClassification_best_model.pth\n"
     ]
    },
    {
     "name": "stderr",
     "output_type": "stream",
     "text": [
      "Epoch 15/30 - Training: 100%|██████████| 272/272 [02:18<00:00,  1.96it/s]\n"
     ]
    },
    {
     "name": "stdout",
     "output_type": "stream",
     "text": [
      "Average training loss: 0.2440\n"
     ]
    },
    {
     "name": "stderr",
     "output_type": "stream",
     "text": [
      "Epoch 15/30 - Validation: 100%|██████████| 68/68 [00:11<00:00,  5.83it/s]\n"
     ]
    },
    {
     "name": "stdout",
     "output_type": "stream",
     "text": [
      "Average validation loss: 0.2365\n",
      "Validation accuracy: 0.8989\n",
      "Saved improved model at /home/jovyan/work/Projects/EEG_Report_Classification/SavedModels/ClinicalBERT/BertForSequenceClassification_best_model.pth\n"
     ]
    },
    {
     "name": "stderr",
     "output_type": "stream",
     "text": [
      "Epoch 16/30 - Training: 100%|██████████| 272/272 [02:18<00:00,  1.96it/s]\n"
     ]
    },
    {
     "name": "stdout",
     "output_type": "stream",
     "text": [
      "Average training loss: 0.2205\n"
     ]
    },
    {
     "name": "stderr",
     "output_type": "stream",
     "text": [
      "Epoch 16/30 - Validation: 100%|██████████| 68/68 [00:11<00:00,  5.82it/s]\n"
     ]
    },
    {
     "name": "stdout",
     "output_type": "stream",
     "text": [
      "Average validation loss: 0.2096\n",
      "Validation accuracy: 0.9136\n",
      "Saved improved model at /home/jovyan/work/Projects/EEG_Report_Classification/SavedModels/ClinicalBERT/BertForSequenceClassification_best_model.pth\n"
     ]
    },
    {
     "name": "stderr",
     "output_type": "stream",
     "text": [
      "Epoch 17/30 - Training: 100%|██████████| 272/272 [02:18<00:00,  1.96it/s]\n"
     ]
    },
    {
     "name": "stdout",
     "output_type": "stream",
     "text": [
      "Average training loss: 0.1965\n"
     ]
    },
    {
     "name": "stderr",
     "output_type": "stream",
     "text": [
      "Epoch 17/30 - Validation: 100%|██████████| 68/68 [00:11<00:00,  5.85it/s]\n"
     ]
    },
    {
     "name": "stdout",
     "output_type": "stream",
     "text": [
      "Average validation loss: 0.1810\n",
      "Validation accuracy: 0.9283\n",
      "Saved improved model at /home/jovyan/work/Projects/EEG_Report_Classification/SavedModels/ClinicalBERT/BertForSequenceClassification_best_model.pth\n"
     ]
    },
    {
     "name": "stderr",
     "output_type": "stream",
     "text": [
      "Epoch 18/30 - Training: 100%|██████████| 272/272 [02:18<00:00,  1.96it/s]\n"
     ]
    },
    {
     "name": "stdout",
     "output_type": "stream",
     "text": [
      "Average training loss: 0.1777\n"
     ]
    },
    {
     "name": "stderr",
     "output_type": "stream",
     "text": [
      "Epoch 18/30 - Validation: 100%|██████████| 68/68 [00:11<00:00,  5.83it/s]\n"
     ]
    },
    {
     "name": "stdout",
     "output_type": "stream",
     "text": [
      "Average validation loss: 0.1574\n",
      "Validation accuracy: 0.9412\n",
      "Saved improved model at /home/jovyan/work/Projects/EEG_Report_Classification/SavedModels/ClinicalBERT/BertForSequenceClassification_best_model.pth\n"
     ]
    },
    {
     "name": "stderr",
     "output_type": "stream",
     "text": [
      "Epoch 19/30 - Training: 100%|██████████| 272/272 [02:18<00:00,  1.96it/s]\n"
     ]
    },
    {
     "name": "stdout",
     "output_type": "stream",
     "text": [
      "Average training loss: 0.1578\n"
     ]
    },
    {
     "name": "stderr",
     "output_type": "stream",
     "text": [
      "Epoch 19/30 - Validation: 100%|██████████| 68/68 [00:11<00:00,  5.86it/s]\n"
     ]
    },
    {
     "name": "stdout",
     "output_type": "stream",
     "text": [
      "Average validation loss: 0.1401\n",
      "Validation accuracy: 0.9522\n",
      "Saved improved model at /home/jovyan/work/Projects/EEG_Report_Classification/SavedModels/ClinicalBERT/BertForSequenceClassification_best_model.pth\n"
     ]
    },
    {
     "name": "stderr",
     "output_type": "stream",
     "text": [
      "Epoch 20/30 - Training: 100%|██████████| 272/272 [02:18<00:00,  1.96it/s]\n"
     ]
    },
    {
     "name": "stdout",
     "output_type": "stream",
     "text": [
      "Average training loss: 0.1380\n"
     ]
    },
    {
     "name": "stderr",
     "output_type": "stream",
     "text": [
      "Epoch 20/30 - Validation: 100%|██████████| 68/68 [00:11<00:00,  5.83it/s]\n"
     ]
    },
    {
     "name": "stdout",
     "output_type": "stream",
     "text": [
      "Average validation loss: 0.1252\n",
      "Validation accuracy: 0.9559\n",
      "Saved improved model at /home/jovyan/work/Projects/EEG_Report_Classification/SavedModels/ClinicalBERT/BertForSequenceClassification_best_model.pth\n"
     ]
    },
    {
     "name": "stderr",
     "output_type": "stream",
     "text": [
      "Epoch 21/30 - Training: 100%|██████████| 272/272 [02:18<00:00,  1.96it/s]\n"
     ]
    },
    {
     "name": "stdout",
     "output_type": "stream",
     "text": [
      "Average training loss: 0.1283\n"
     ]
    },
    {
     "name": "stderr",
     "output_type": "stream",
     "text": [
      "Epoch 21/30 - Validation: 100%|██████████| 68/68 [00:11<00:00,  5.86it/s]\n"
     ]
    },
    {
     "name": "stdout",
     "output_type": "stream",
     "text": [
      "Average validation loss: 0.1146\n",
      "Validation accuracy: 0.9596\n",
      "Saved improved model at /home/jovyan/work/Projects/EEG_Report_Classification/SavedModels/ClinicalBERT/BertForSequenceClassification_best_model.pth\n"
     ]
    },
    {
     "name": "stderr",
     "output_type": "stream",
     "text": [
      "Epoch 22/30 - Training: 100%|██████████| 272/272 [02:18<00:00,  1.96it/s]\n"
     ]
    },
    {
     "name": "stdout",
     "output_type": "stream",
     "text": [
      "Average training loss: 0.1163\n"
     ]
    },
    {
     "name": "stderr",
     "output_type": "stream",
     "text": [
      "Epoch 22/30 - Validation: 100%|██████████| 68/68 [00:11<00:00,  5.86it/s]\n"
     ]
    },
    {
     "name": "stdout",
     "output_type": "stream",
     "text": [
      "Average validation loss: 0.1039\n",
      "Validation accuracy: 0.9669\n",
      "Saved improved model at /home/jovyan/work/Projects/EEG_Report_Classification/SavedModels/ClinicalBERT/BertForSequenceClassification_best_model.pth\n"
     ]
    },
    {
     "name": "stderr",
     "output_type": "stream",
     "text": [
      "Epoch 23/30 - Training: 100%|██████████| 272/272 [02:18<00:00,  1.96it/s]\n"
     ]
    },
    {
     "name": "stdout",
     "output_type": "stream",
     "text": [
      "Average training loss: 0.1101\n"
     ]
    },
    {
     "name": "stderr",
     "output_type": "stream",
     "text": [
      "Epoch 23/30 - Validation: 100%|██████████| 68/68 [00:11<00:00,  5.84it/s]\n"
     ]
    },
    {
     "name": "stdout",
     "output_type": "stream",
     "text": [
      "Average validation loss: 0.0966\n",
      "Validation accuracy: 0.9724\n",
      "Saved improved model at /home/jovyan/work/Projects/EEG_Report_Classification/SavedModels/ClinicalBERT/BertForSequenceClassification_best_model.pth\n"
     ]
    },
    {
     "name": "stderr",
     "output_type": "stream",
     "text": [
      "Epoch 24/30 - Training: 100%|██████████| 272/272 [02:18<00:00,  1.96it/s]\n"
     ]
    },
    {
     "name": "stdout",
     "output_type": "stream",
     "text": [
      "Average training loss: 0.1060\n"
     ]
    },
    {
     "name": "stderr",
     "output_type": "stream",
     "text": [
      "Epoch 24/30 - Validation: 100%|██████████| 68/68 [00:11<00:00,  5.84it/s]\n"
     ]
    },
    {
     "name": "stdout",
     "output_type": "stream",
     "text": [
      "Average validation loss: 0.0920\n",
      "Validation accuracy: 0.9724\n"
     ]
    },
    {
     "name": "stderr",
     "output_type": "stream",
     "text": [
      "Epoch 25/30 - Training: 100%|██████████| 272/272 [02:18<00:00,  1.96it/s]\n"
     ]
    },
    {
     "name": "stdout",
     "output_type": "stream",
     "text": [
      "Average training loss: 0.0968\n"
     ]
    },
    {
     "name": "stderr",
     "output_type": "stream",
     "text": [
      "Epoch 25/30 - Validation: 100%|██████████| 68/68 [00:11<00:00,  5.83it/s]\n"
     ]
    },
    {
     "name": "stdout",
     "output_type": "stream",
     "text": [
      "Average validation loss: 0.0887\n",
      "Validation accuracy: 0.9706\n"
     ]
    },
    {
     "name": "stderr",
     "output_type": "stream",
     "text": [
      "Epoch 26/30 - Training: 100%|██████████| 272/272 [02:18<00:00,  1.96it/s]\n"
     ]
    },
    {
     "name": "stdout",
     "output_type": "stream",
     "text": [
      "Average training loss: 0.0879\n"
     ]
    },
    {
     "name": "stderr",
     "output_type": "stream",
     "text": [
      "Epoch 26/30 - Validation: 100%|██████████| 68/68 [00:11<00:00,  5.83it/s]\n"
     ]
    },
    {
     "name": "stdout",
     "output_type": "stream",
     "text": [
      "Average validation loss: 0.0862\n",
      "Validation accuracy: 0.9724\n"
     ]
    },
    {
     "name": "stderr",
     "output_type": "stream",
     "text": [
      "Epoch 27/30 - Training: 100%|██████████| 272/272 [02:18<00:00,  1.96it/s]\n"
     ]
    },
    {
     "name": "stdout",
     "output_type": "stream",
     "text": [
      "Average training loss: 0.0873\n"
     ]
    },
    {
     "name": "stderr",
     "output_type": "stream",
     "text": [
      "Epoch 27/30 - Validation: 100%|██████████| 68/68 [00:11<00:00,  5.84it/s]\n"
     ]
    },
    {
     "name": "stdout",
     "output_type": "stream",
     "text": [
      "Average validation loss: 0.0835\n",
      "Validation accuracy: 0.9743\n",
      "Saved improved model at /home/jovyan/work/Projects/EEG_Report_Classification/SavedModels/ClinicalBERT/BertForSequenceClassification_best_model.pth\n"
     ]
    },
    {
     "name": "stderr",
     "output_type": "stream",
     "text": [
      "Epoch 28/30 - Training: 100%|██████████| 272/272 [02:18<00:00,  1.96it/s]\n"
     ]
    },
    {
     "name": "stdout",
     "output_type": "stream",
     "text": [
      "Average training loss: 0.0789\n"
     ]
    },
    {
     "name": "stderr",
     "output_type": "stream",
     "text": [
      "Epoch 28/30 - Validation: 100%|██████████| 68/68 [00:11<00:00,  5.83it/s]\n"
     ]
    },
    {
     "name": "stdout",
     "output_type": "stream",
     "text": [
      "Average validation loss: 0.0818\n",
      "Validation accuracy: 0.9761\n",
      "Saved improved model at /home/jovyan/work/Projects/EEG_Report_Classification/SavedModels/ClinicalBERT/BertForSequenceClassification_best_model.pth\n"
     ]
    },
    {
     "name": "stderr",
     "output_type": "stream",
     "text": [
      "Epoch 29/30 - Training: 100%|██████████| 272/272 [02:18<00:00,  1.96it/s]\n"
     ]
    },
    {
     "name": "stdout",
     "output_type": "stream",
     "text": [
      "Average training loss: 0.0838\n"
     ]
    },
    {
     "name": "stderr",
     "output_type": "stream",
     "text": [
      "Epoch 29/30 - Validation: 100%|██████████| 68/68 [00:11<00:00,  5.84it/s]\n"
     ]
    },
    {
     "name": "stdout",
     "output_type": "stream",
     "text": [
      "Average validation loss: 0.0808\n",
      "Validation accuracy: 0.9743\n"
     ]
    },
    {
     "name": "stderr",
     "output_type": "stream",
     "text": [
      "Epoch 30/30 - Training: 100%|██████████| 272/272 [02:18<00:00,  1.96it/s]\n"
     ]
    },
    {
     "name": "stdout",
     "output_type": "stream",
     "text": [
      "Average training loss: 0.0907\n"
     ]
    },
    {
     "name": "stderr",
     "output_type": "stream",
     "text": [
      "Epoch 30/30 - Validation: 100%|██████████| 68/68 [00:11<00:00,  5.86it/s]"
     ]
    },
    {
     "name": "stdout",
     "output_type": "stream",
     "text": [
      "Average validation loss: 0.0803\n",
      "Validation accuracy: 0.9761\n"
     ]
    },
    {
     "name": "stderr",
     "output_type": "stream",
     "text": [
      "\n"
     ]
    }
   ],
   "source": [
    "train_and_validate(\n",
    "    model=model,\n",
    "    train_dataloader=train_dataloader,\n",
    "    val_dataloader=val_dataloader,\n",
    "    optimizer=optimizer,\n",
    "    device=device,\n",
    "    epochs=30\n",
    ")"
   ]
  },
  {
   "cell_type": "code",
   "execution_count": 11,
   "id": "ad712d6e-befd-439f-b4fc-4d1ba34fac0c",
   "metadata": {},
   "outputs": [],
   "source": [
    "def evaluate_model_and_plot(model, dataloader, device):\n",
    "    \"\"\"Evaluate the model and plot metrics and confusion matrix.\"\"\"\n",
    "    model.eval()\n",
    "    predictions, true_labels = [], []\n",
    "\n",
    "    with torch.no_grad():\n",
    "        for batch in dataloader:\n",
    "            batch = {k: v.to(device) for k, v in batch.items()}\n",
    "            outputs = model(**batch)\n",
    "            logits = outputs.logits\n",
    "            predicted_labels = torch.argmax(logits, dim=1)\n",
    "            predictions.extend(predicted_labels.cpu().numpy())\n",
    "            true_labels.extend(batch['labels'].cpu().numpy())\n",
    "\n",
    "    accuracy = accuracy_score(true_labels, predictions)\n",
    "    class_report = classification_report(true_labels, predictions, target_names=['Normal', 'Abnormal'], output_dict=True)\n",
    "    conf_matrix = confusion_matrix(true_labels, predictions)\n",
    "\n",
    "    print(\"Accuracy:\", accuracy)\n",
    "    print(\"Classification Report:\")\n",
    "    print(classification_report(true_labels, predictions, target_names=['Normal', 'Abnormal']))\n",
    "\n",
    "    # Plotting the confusion matrix\n",
    "    plt.figure(figsize=(8, 6))\n",
    "    sns.heatmap(conf_matrix, annot=True, fmt='d', cmap='Blues', xticklabels=['Normal', 'Abnormal'], yticklabels=['Normal', 'Abnormal'])\n",
    "    plt.xlabel('Predicted Labels')\n",
    "    plt.ylabel('True Labels')\n",
    "    plt.title('Confusion Matrix')\n",
    "    plt.show()\n",
    "\n",
    "    return {\"accuracy\": accuracy, \"report\": class_report, \"confusion_matrix\": conf_matrix}"
   ]
  },
  {
   "cell_type": "code",
   "execution_count": 13,
   "id": "285ca5da-c706-4ece-8259-a9bf142046e1",
   "metadata": {},
   "outputs": [
    {
     "name": "stderr",
     "output_type": "stream",
     "text": [
      "Some weights of BertForSequenceClassification were not initialized from the model checkpoint at emilyalsentzer/Bio_ClinicalBERT and are newly initialized: ['classifier.bias', 'classifier.weight']\n",
      "You should probably TRAIN this model on a down-stream task to be able to use it for predictions and inference.\n"
     ]
    },
    {
     "data": {
      "text/plain": [
       "BertForSequenceClassification(\n",
       "  (bert): BertModel(\n",
       "    (embeddings): BertEmbeddings(\n",
       "      (word_embeddings): Embedding(28996, 768, padding_idx=0)\n",
       "      (position_embeddings): Embedding(512, 768)\n",
       "      (token_type_embeddings): Embedding(2, 768)\n",
       "      (LayerNorm): LayerNorm((768,), eps=1e-12, elementwise_affine=True)\n",
       "      (dropout): Dropout(p=0.1, inplace=False)\n",
       "    )\n",
       "    (encoder): BertEncoder(\n",
       "      (layer): ModuleList(\n",
       "        (0-11): 12 x BertLayer(\n",
       "          (attention): BertAttention(\n",
       "            (self): BertSelfAttention(\n",
       "              (query): Linear(in_features=768, out_features=768, bias=True)\n",
       "              (key): Linear(in_features=768, out_features=768, bias=True)\n",
       "              (value): Linear(in_features=768, out_features=768, bias=True)\n",
       "              (dropout): Dropout(p=0.1, inplace=False)\n",
       "            )\n",
       "            (output): BertSelfOutput(\n",
       "              (dense): Linear(in_features=768, out_features=768, bias=True)\n",
       "              (LayerNorm): LayerNorm((768,), eps=1e-12, elementwise_affine=True)\n",
       "              (dropout): Dropout(p=0.1, inplace=False)\n",
       "            )\n",
       "          )\n",
       "          (intermediate): BertIntermediate(\n",
       "            (dense): Linear(in_features=768, out_features=3072, bias=True)\n",
       "            (intermediate_act_fn): GELUActivation()\n",
       "          )\n",
       "          (output): BertOutput(\n",
       "            (dense): Linear(in_features=3072, out_features=768, bias=True)\n",
       "            (LayerNorm): LayerNorm((768,), eps=1e-12, elementwise_affine=True)\n",
       "            (dropout): Dropout(p=0.1, inplace=False)\n",
       "          )\n",
       "        )\n",
       "      )\n",
       "    )\n",
       "    (pooler): BertPooler(\n",
       "      (dense): Linear(in_features=768, out_features=768, bias=True)\n",
       "      (activation): Tanh()\n",
       "    )\n",
       "  )\n",
       "  (dropout): Dropout(p=0.1, inplace=False)\n",
       "  (classifier): Linear(in_features=768, out_features=2, bias=True)\n",
       ")"
      ]
     },
     "execution_count": 13,
     "metadata": {},
     "output_type": "execute_result"
    }
   ],
   "source": [
    "# Step 1: Recreate the model architecture\n",
    "model = BertForSequenceClassification.from_pretrained(\n",
    "    \"emilyalsentzer/Bio_ClinicalBERT\",\n",
    "    num_labels=2,  # Ensure this matches the setup during training\n",
    "    output_attentions=False,\n",
    "    output_hidden_states=False,\n",
    ")\n",
    "\n",
    "# Step 2: Load the saved model weights\n",
    "model_path = saved_models_dir+'BertForSequenceClassification_best_model.pth'\n",
    "model.load_state_dict(torch.load(model_path))\n",
    "\n",
    "# Step 3: Prepare the model for evaluation\n",
    "device = torch.device(\"cuda\" if torch.cuda.is_available() else \"cpu\")\n",
    "model.to(device)\n",
    "model.eval()"
   ]
  },
  {
   "cell_type": "code",
   "execution_count": 14,
   "id": "1f4129c4-cf98-47dd-9378-604d58398823",
   "metadata": {},
   "outputs": [
    {
     "name": "stdout",
     "output_type": "stream",
     "text": [
      "Accuracy: 0.9710144927536232\n",
      "Classification Report:\n",
      "              precision    recall  f1-score   support\n",
      "\n",
      "      Normal       0.97      0.97      0.97       150\n",
      "    Abnormal       0.97      0.97      0.97       126\n",
      "\n",
      "    accuracy                           0.97       276\n",
      "   macro avg       0.97      0.97      0.97       276\n",
      "weighted avg       0.97      0.97      0.97       276\n",
      "\n"
     ]
    },
    {
     "data": {
      "image/png": "[encoded data removed]",
      "text/plain": [
       "<Figure size 800x600 with 2 Axes>"
      ]
     },
     "metadata": {},
     "output_type": "display_data"
    }
   ],
   "source": [
    "# model evaluation finally done here\n",
    "results = evaluate_model_and_plot(model, test_dataloader, device)"
   ]
  },
  {
   "cell_type": "code",
   "execution_count": null,
   "id": "89b78a40-3ff5-4b2e-9d23-032ea32779d2",
   "metadata": {},
   "outputs": [],
   "source": []
  }
 ],
 "metadata": {
  "kernelspec": {
   "display_name": "Python 3 (ipykernel)",
   "language": "python",
   "name": "python3"
  },
  "language_info": {
   "codemirror_mode": {
    "name": "ipython",
    "version": 3
   },
   "file_extension": ".py",
   "mimetype": "text/x-python",
   "name": "python",
   "nbconvert_exporter": "python",
   "pygments_lexer": "ipython3",
   "version": "3.11.8"
  }
 },
 "nbformat": 4,
 "nbformat_minor": 5
}
