{
 "cells": [
  {
   "cell_type": "code",
   "execution_count": 23,
   "id": "599569ff-0356-4095-8a05-f51c2f5dfd02",
   "metadata": {},
   "outputs": [],
   "source": [
    "import os\n",
    "import re\n",
    "import glob\n",
    "import tarfile\n",
    "import numpy as np\n",
    "import matplotlib.pyplot as plt\n",
    "import seaborn as sns\n",
    "import pandas as pd\n",
    "from sklearn.metrics import confusion_matrix\n",
    "from sklearn.model_selection import train_test_split\n",
    "from sklearn.feature_extraction.text import TfidfVectorizer\n",
    "from sklearn.metrics import accuracy_score, precision_score, recall_score, f1_score, roc_auc_score\n",
    "import nltk\n",
    "from nltk.corpus import stopwords\n",
    "from nltk.stem import PorterStemmer, WordNetLemmatizer"
   ]
  },
  {
   "cell_type": "code",
   "execution_count": 2,
   "id": "af439a0a-d205-455b-ad92-1d4ae7382d56",
   "metadata": {},
   "outputs": [
    {
     "name": "stdout",
     "output_type": "stream",
     "text": [
      "Downloading...\n",
      "From: https://drive.google.com/uc?id=1jxJNYCc3K_ad-_iT65MZob8nRWKCItV5\n",
      "To: /home/jovyan/work/Projects/EEG_Report_Classification/TUAB_txt_relabelled.tar\n",
      "100%|███████████████████████████████████████| 12.3M/12.3M [01:55<00:00, 106kB/s]\n"
     ]
    }
   ],
   "source": [
    "!gdown 1jxJNYCc3K_ad-_iT65MZob8nRWKCItV5"
   ]
  },
  {
   "cell_type": "code",
   "execution_count": 3,
   "id": "2a3ca15f-14f3-4f09-9bea-e0bb96a3c4ae",
   "metadata": {},
   "outputs": [],
   "source": [
    "tar = tarfile.open(\"./TUAB_txt_relabelled.tar\")\n",
    "tar.extractall()\n",
    "tar.close()"
   ]
  },
  {
   "cell_type": "code",
   "execution_count": 24,
   "id": "92004b97-7a7e-4856-a148-260753153eb8",
   "metadata": {},
   "outputs": [],
   "source": [
    "main_dataset_dir = '/home/jovyan/work/Projects/EEG_Report_Classification/TUAB_txt_relabelled/v2.0.0/edf/'\n",
    "train_dataset_dir = main_dataset_dir + 'train/'\n",
    "test_dataset_dir = main_dataset_dir + 'eval/'\n",
    "saved_models_dir = \"/home/jovyan/work/Projects/EEG_Report_Classification/SavedModels/LightGBM/\""
   ]
  },
  {
   "cell_type": "code",
   "execution_count": 22,
   "id": "57984ef4-04d2-4a22-b553-de8b72d4c86f",
   "metadata": {},
   "outputs": [
    {
     "name": "stderr",
     "output_type": "stream",
     "text": [
      "[nltk_data] Downloading package stopwords to /home/jovyan/nltk_data...\n",
      "[nltk_data]   Package stopwords is already up-to-date!\n",
      "[nltk_data] Downloading package wordnet to /home/jovyan/nltk_data...\n",
      "[nltk_data]   Package wordnet is already up-to-date!\n"
     ]
    }
   ],
   "source": [
    "# preprocessing functions\n",
    "\n",
    "def remove_special_characters(text):\n",
    "    # Remove everything except letters\n",
    "    text = re.sub(r'[^a-zA-Z\\s]', '', text, re.I|re.A)\n",
    "    return text\n",
    "\n",
    "\n",
    "nltk.download('stopwords')\n",
    "nltk.download('wordnet')\n",
    "stop_words = set(stopwords.words('english'))\n",
    "\n",
    "def remove_stopwords(text):\n",
    "    tokens = text.split()\n",
    "    filtered_tokens = [token for token in tokens if token not in stop_words]\n",
    "    text = ' '.join(filtered_tokens)\n",
    "    return text\n",
    "\n",
    "\n",
    "stemmer = PorterStemmer()\n",
    "lemmatizer = WordNetLemmatizer()\n",
    "\n",
    "def stem_text(text):\n",
    "    tokens = text.split()\n",
    "    stemmed_tokens = [stemmer.stem(token) for token in tokens]\n",
    "    text = ' '.join(stemmed_tokens)\n",
    "    return text\n",
    "\n",
    "def lemmatize_text(text):\n",
    "    tokens = text.split()\n",
    "    lemmatized_tokens = [lemmatizer.lemmatize(token) for token in tokens]\n",
    "    text = ' '.join(lemmatized_tokens)\n",
    "    return text\n",
    "\n",
    "\n",
    "def normalize_text(text):\n",
    "    text = text.lower()\n",
    "    return text"
   ]
  },
  {
   "cell_type": "markdown",
   "id": "409df7f6-ae1a-4ea7-bca8-8b37600b6de0",
   "metadata": {},
   "source": [
    "## Using LightGBM"
   ]
  },
  {
   "cell_type": "code",
   "execution_count": 6,
   "id": "9d8a7c1e-cc98-4ebb-96a2-2a430e55cbec",
   "metadata": {},
   "outputs": [],
   "source": [
    "class LightGBMTextDataLoader:\n",
    "    def __init__(self, root_dir):\n",
    "        self.root_dir = root_dir\n",
    "        self.file_paths = glob.glob(os.path.join(root_dir, '**/*.txt'), recursive=True)\n",
    "        self.data = []  # This will store tuples of (text, label)\n",
    "    \n",
    "    def read_text_file(self, file_path):\n",
    "        \"\"\"Reads text file with multiple fallback encodings.\"\"\"\n",
    "        encodings = ['utf-8', 'iso-8859-1', 'windows-1252', 'ascii']\n",
    "        for encoding in encodings:\n",
    "            try:\n",
    "                with open(file_path, 'r', encoding=encoding) as file:\n",
    "                    return file.read()\n",
    "            except UnicodeDecodeError:\n",
    "                continue\n",
    "        return None  # Return None if all encodings fail\n",
    "\n",
    "    def preprocess_text(self, text):\n",
    "        text = normalize_text(text)\n",
    "        text = remove_special_characters(text)\n",
    "    \n",
    "        text = remove_stopwords(text)\n",
    "        \n",
    "        text = stem_text(text)\n",
    "        text = lemmatize_text(text)\n",
    "        \n",
    "        return text\n",
    "\n",
    "    def load_data(self):\n",
    "        \"\"\"Loads all text files and labels them based on file path naming.\"\"\"\n",
    "        for file_path in self.file_paths:\n",
    "            label = 1 if 'abnormal' in file_path else 0 if 'normal' in file_path else -1\n",
    "            text = self.read_text_file(file_path)\n",
    "            if text:\n",
    "                processed_text = self.preprocess_text(text)\n",
    "                self.data.append((processed_text, label))\n",
    "\n",
    "    def get_dataframe(self):\n",
    "        \"\"\"Converts loaded data into a pandas DataFrame.\"\"\"\n",
    "        df = pd.DataFrame(self.data, columns=['text', 'label'])\n",
    "        return df"
   ]
  },
  {
   "cell_type": "code",
   "execution_count": 7,
   "id": "ae752dc9-30f0-4bcd-ae26-b3dcfc783b35",
   "metadata": {},
   "outputs": [],
   "source": [
    "train_dataloader = LightGBMTextDataLoader(root_dir=train_dataset_dir)\n",
    "test_dataloader = LightGBMTextDataLoader(root_dir=test_dataset_dir)\n",
    "\n",
    "train_dataloader.load_data()\n",
    "test_dataloader.load_data()\n",
    "\n",
    "\n",
    "train_df = train_dataloader.get_dataframe()\n",
    "test_df = test_dataloader.get_dataframe()\n",
    "\n",
    "train_df, val_df = train_test_split(train_df, test_size=0.2, random_state=42)"
   ]
  },
  {
   "cell_type": "code",
   "execution_count": 8,
   "id": "7c0a3abf-2e7d-469b-87b7-626ac05ff0b5",
   "metadata": {},
   "outputs": [],
   "source": [
    "vectorizer = TfidfVectorizer(max_features=1000)\n",
    "\n",
    "# Fit on training data and transform it\n",
    "X_train = vectorizer.fit_transform(train_df['text']).toarray()\n",
    "y_train = train_df['label'].values\n",
    "\n",
    "# Transform validation data using the same vectorizer\n",
    "X_val = vectorizer.transform(val_df['text']).toarray()\n",
    "y_val = val_df['label'].values\n",
    "\n",
    "# Similarly, transform the test data (do not fit the vectorizer on test data)\n",
    "X_test = vectorizer.transform(test_df['text']).toarray()\n",
    "y_test = test_df['label'].values"
   ]
  },
  {
   "cell_type": "code",
   "execution_count": 14,
   "id": "e8d1f9f7-c491-4659-9842-0847b5921a96",
   "metadata": {},
   "outputs": [
    {
     "name": "stdout",
     "output_type": "stream",
     "text": [
      "[LightGBM] [Warning] No further splits with positive gain, best gain: -inf\n",
      "Training until validation scores don't improve for 50 rounds\n",
      "[LightGBM] [Warning] No further splits with positive gain, best gain: -inf\n",
      "[50]\ttraining's binary_logloss: 0.0376928\ttraining's auc: 0.999959\tvalid_1's binary_logloss: 0.0449454\tvalid_1's auc: 0.999851\n",
      "[100]\ttraining's binary_logloss: 0.00316845\ttraining's auc: 1\tvalid_1's binary_logloss: 0.0152165\tvalid_1's auc: 0.999946\n",
      "Early stopping, best iteration is:\n",
      "[98]\ttraining's binary_logloss: 0.0034743\ttraining's auc: 1\tvalid_1's binary_logloss: 0.015508\tvalid_1's auc: 0.999946\n"
     ]
    },
    {
     "data": {
      "text/plain": [
       "<lightgbm.basic.Booster at 0x7f414fda6510>"
      ]
     },
     "execution_count": 14,
     "metadata": {},
     "output_type": "execute_result"
    }
   ],
   "source": [
    "train_data = lgb.Dataset(X_train, label=y_train)\n",
    "val_data = lgb.Dataset(X_val, label=y_val, reference=train_data)\n",
    "\n",
    "# Define parameters\n",
    "params = {\n",
    "    'boosting_type': 'gbdt',\n",
    "    'objective': 'binary',\n",
    "    'metric': ['binary_logloss','auc'],\n",
    "    'num_leaves': 31,\n",
    "    'learning_rate': 0.06,\n",
    "    'feature_fraction': 0.9,\n",
    "    'bagging_fraction': 0.8,\n",
    "    'bagging_freq': 5,\n",
    "    'verbose': 0,\n",
    "}\n",
    "\n",
    "num_round = 2000\n",
    "bst = lgb.train(params,\n",
    "                train_data,\n",
    "                num_boost_round=num_round,\n",
    "                valid_sets=[train_data, val_data],\n",
    "                callbacks=[\n",
    "                    lgb.early_stopping(stopping_rounds=50),\n",
    "                    lgb.log_evaluation(period=50)  # Logs every 50 iterations\n",
    "                ])\n",
    "\n",
    "# Save the model\n",
    "bst.save_model(saved_models_dir + 'lgbm_model.txt')"
   ]
  },
  {
   "cell_type": "code",
   "execution_count": 10,
   "id": "34dfc722-9bb1-42a0-bb5f-bf3cfb5d278d",
   "metadata": {},
   "outputs": [],
   "source": [
    "y_pred_prob = bst.predict(X_test)  # Get model predictions (probabilities)\n",
    "y_pred = np.where(y_pred_prob > 0.5, 1, 0)"
   ]
  },
  {
   "cell_type": "code",
   "execution_count": 11,
   "id": "9cb2bdcd-f02c-42c3-ace1-869e019ce602",
   "metadata": {},
   "outputs": [
    {
     "name": "stdout",
     "output_type": "stream",
     "text": [
      "Accuracy: 0.9964\n",
      "Precision: 1.0000\n",
      "Recall: 0.9921\n",
      "F1 Score: 0.9960\n"
     ]
    }
   ],
   "source": [
    "accuracy = accuracy_score(y_test, y_pred)\n",
    "precision = precision_score(y_test, y_pred)\n",
    "recall = recall_score(y_test, y_pred)\n",
    "f1 = f1_score(y_test, y_pred)\n",
    "\n",
    "print(f\"Accuracy: {accuracy:.4f}\")\n",
    "print(f\"Precision: {precision:.4f}\")\n",
    "print(f\"Recall: {recall:.4f}\")\n",
    "print(f\"F1 Score: {f1:.4f}\")"
   ]
  },
  {
   "cell_type": "code",
   "execution_count": 12,
   "id": "34234528-36a9-42d6-99a4-802daf6cfbb8",
   "metadata": {},
   "outputs": [
    {
     "data": {
      "image/png": "[encoded data removed]",
      "text/plain": [
       "<Figure size 800x600 with 2 Axes>"
      ]
     },
     "metadata": {},
     "output_type": "display_data"
    }
   ],
   "source": [
    "cm = confusion_matrix(y_test, y_pred)\n",
    "plt.figure(figsize=(8, 6))\n",
    "sns.heatmap(cm, annot=True, fmt='d', cmap='Blues', xticklabels=['Predicted Negative', 'Predicted Positive'], yticklabels=['Actual Negative', 'Actual Positive'])\n",
    "plt.ylabel('Actual label')\n",
    "plt.xlabel('Predicted label')\n",
    "plt.title('Confusion Matrix')\n",
    "plt.show()"
   ]
  },
  {
   "cell_type": "code",
   "execution_count": null,
   "id": "e5524720-f987-4988-97a0-2492a3b3e6e1",
   "metadata": {},
   "outputs": [],
   "source": []
  }
 ],
 "metadata": {
  "kernelspec": {
   "display_name": "Python 3 (ipykernel)",
   "language": "python",
   "name": "python3"
  },
  "language_info": {
   "codemirror_mode": {
    "name": "ipython",
    "version": 3
   },
   "file_extension": ".py",
   "mimetype": "text/x-python",
   "name": "python",
   "nbconvert_exporter": "python",
   "pygments_lexer": "ipython3",
   "version": "3.11.8"
  }
 },
 "nbformat": 4,
 "nbformat_minor": 5
}
